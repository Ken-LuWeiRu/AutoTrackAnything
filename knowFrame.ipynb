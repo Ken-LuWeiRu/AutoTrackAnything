{
 "cells": [
  {
   "cell_type": "code",
   "execution_count": 1,
   "metadata": {},
   "outputs": [
    {
     "name": "stdout",
     "output_type": "stream",
     "text": [
      "视频中总共有 2255 帧\n"
     ]
    }
   ],
   "source": [
    "import cv2\n",
    "\n",
    "# 视频文件路径\n",
    "video_path = \"Street_1080p_30fps.mp4\"\n",
    "\n",
    "# 使用OpenCV打开视频文件\n",
    "cap = cv2.VideoCapture(video_path)\n",
    "\n",
    "# 检查视频是否成功打开\n",
    "if not cap.isOpened():\n",
    "    print(\"Error: 无法打开视频文件\")\n",
    "    exit()\n",
    "\n",
    "# 获取视频帧数\n",
    "total_frames = int(cap.get(cv2.CAP_PROP_FRAME_COUNT))\n",
    "\n",
    "print(\"视频中总共有 {} 帧\".format(total_frames))\n",
    "\n",
    "# 释放视频捕获对象\n",
    "cap.release()\n"
   ]
  },
  {
   "cell_type": "code",
   "execution_count": 1,
   "metadata": {},
   "outputs": [
    {
     "name": "stdout",
     "output_type": "stream",
     "text": [
      "视频中总共有 2341 帧\n",
      "视频的长: 1920, 宽: 1080\n"
     ]
    }
   ],
   "source": [
    "import cv2\n",
    "\n",
    "# 视频文件路径\n",
    "video_path = \"Newper.mp4\"\n",
    "\n",
    "# 使用OpenCV打开视频文件\n",
    "cap = cv2.VideoCapture(video_path)\n",
    "\n",
    "# 检查视频是否成功打开\n",
    "if not cap.isOpened():\n",
    "    print(\"Error: 无法打开视频文件\")\n",
    "    exit()\n",
    "\n",
    "# 获取视频帧数\n",
    "total_frames = int(cap.get(cv2.CAP_PROP_FRAME_COUNT))\n",
    "\n",
    "# 获取视频的长宽\n",
    "width = int(cap.get(cv2.CAP_PROP_FRAME_WIDTH))\n",
    "height = int(cap.get(cv2.CAP_PROP_FRAME_HEIGHT))\n",
    "\n",
    "print(\"视频中总共有 {} 帧\".format(total_frames))\n",
    "print(\"视频的长: {}, 宽: {}\".format(width, height))\n",
    "\n",
    "# 释放视频捕获对象\n",
    "cap.release()\n"
   ]
  }
 ],
 "metadata": {
  "kernelspec": {
   "display_name": "Python 3",
   "language": "python",
   "name": "python3"
  },
  "language_info": {
   "codemirror_mode": {
    "name": "ipython",
    "version": 3
   },
   "file_extension": ".py",
   "mimetype": "text/x-python",
   "name": "python",
   "nbconvert_exporter": "python",
   "pygments_lexer": "ipython3",
   "version": "3.10.12"
  }
 },
 "nbformat": 4,
 "nbformat_minor": 2
}
